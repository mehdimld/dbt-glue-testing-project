{
	"metadata": {
		"kernelspec": {
			"name": "glue_pyspark",
			"display_name": "Glue PySpark",
			"language": "python"
		},
		"language_info": {
			"codemirror_mode": {
				"name": "python",
				"version": 3
			},
			"file_extension": ".py",
			"mimetype": "text/x-python",
			"name": "Python_Glue_Session",
			"pygments_lexer": "python3"
		}
	},
	"nbformat_minor": 5,
	"nbformat": 4,
	"cells": [
		{
			"cell_type": "code",
			"source": "%session_id_prefix iceberg-sql-\n%glue_version 3.0\n%idle_timeout 60\n%connections demo_iceberg_connector\n%%configure \n{\n  \"--conf\": \"spark.sql.extensions=org.apache.iceberg.spark.extensions.IcebergSparkSessionExtensions\"\n}",
			"metadata": {
				"vscode": {
					"languageId": "python_glue_session"
				},
				"trusted": true
			},
			"execution_count": 6,
			"outputs": [
				{
					"name": "stdout",
					"text": "Welcome to the Glue Interactive Sessions Kernel\nFor more information on available magic commands, please type %help in any new cell.\n\nPlease view our Getting Started page to access the most up-to-date information on the Interactive Sessions kernel: https://docs.aws.amazon.com/glue/latest/dg/interactive-sessions.html\nInstalled kernel version: 0.37.0 \nSetting session ID prefix to iceberg-sql-\nSetting Glue version to: 3.0\nCurrent idle_timeout is 2880 minutes.\nidle_timeout has been set to 60 minutes.\nConnections to be included:\ndemo_iceberg_connector\nThe following configurations have been updated: {'--conf': 'spark.sql.extensions=org.apache.iceberg.spark.extensions.IcebergSparkSessionExtensions'}\n",
					"output_type": "stream"
				}
			],
			"id": "364cd143-d987-4fda-800e-b5dd0af97a79"
		},
		{
			"cell_type": "code",
			"source": "catalog_name = \"glue_catalog\"\nbucket_name = \"demo-dbt-output-788996449432\"\nbucket_prefix = \"jaffle_db\"\ndatabase_name = \"jaffle_db\"\nwarehouse_path = f\"s3://{bucket_name}/{bucket_prefix}\"\ndynamodb_table = 'myGlueLockTable'",
			"metadata": {
				"vscode": {
					"languageId": "python_glue_session"
				},
				"trusted": true
			},
			"execution_count": 1,
			"outputs": [
				{
					"name": "stdout",
					"text": "Authenticating with environment variables and user-defined glue_role_arn: arn:aws:iam::788996449432:role/AWSGlueServiceRole-dbt\nTrying to create a Glue session for the kernel.\nWorker Type: G.1X\nNumber of Workers: 5\nSession ID: dab82f08-455d-4e6c-8812-bbc224d2eabc\nJob Type: glueetl\nApplying the following default arguments:\n--glue_kernel_version 0.37.0\n--enable-glue-datacatalog true\n--conf spark.sql.extensions=org.apache.iceberg.spark.extensions.IcebergSparkSessionExtensions\nWaiting for session dab82f08-455d-4e6c-8812-bbc224d2eabc to get into ready status...\nSession dab82f08-455d-4e6c-8812-bbc224d2eabc has been created.\n\n",
					"output_type": "stream"
				}
			],
			"id": "fc76d99b-caf5-4663-bda0-1771abd8efdf"
		},
		{
			"cell_type": "markdown",
			"source": "## Initialize SparkSession",
			"metadata": {},
			"id": "223f52c4"
		},
		{
			"cell_type": "code",
			"source": "spark.stop()\nsc.stop()",
			"metadata": {
				"vscode": {
					"languageId": "plaintext"
				},
				"trusted": true
			},
			"execution_count": 13,
			"outputs": [
				{
					"name": "stdout",
					"text": "\n",
					"output_type": "stream"
				}
			],
			"id": "3d5aca3e"
		},
		{
			"cell_type": "code",
			"source": "from pyspark.sql import SparkSession\nspark = SparkSession.builder \\\n    .config(\"spark.sql.warehouse.dir\", warehouse_path) \\\n    .config(f\"spark.sql.catalog.{catalog_name}\", \"org.apache.iceberg.spark.SparkCatalog\") \\\n    .config(f\"spark.sql.catalog.{catalog_name}.warehouse\", warehouse_path) \\\n    .config(f\"spark.sql.catalog.{catalog_name}.catalog-impl\", \"org.apache.iceberg.aws.glue.GlueCatalog\") \\\n    .config(f\"spark.sql.catalog.{catalog_name}.io-impl\", \"org.apache.iceberg.aws.s3.S3FileIO\") \\\n    .config(f\"spark.sql.catalog.{catalog_name}.lock-impl\", \"org.apache.iceberg.aws.glue.DynamoLockManager\") \\\n    .config(f\"spark.sql.catalog.{catalog_name}.lock.table\", dynamodb_table) \\\n    .config(\"spark.sql.extensions\", \"org.apache.iceberg.spark.extensions.IcebergSparkSessionExtensions\") \\\n    .getOrCreate()",
			"metadata": {
				"vscode": {
					"languageId": "python_glue_session"
				},
				"trusted": true
			},
			"execution_count": 14,
			"outputs": [
				{
					"name": "stdout",
					"text": "\n",
					"output_type": "stream"
				}
			],
			"id": "07d9de08-c473-4591-bd5a-ae7106d9addc"
		},
		{
			"cell_type": "code",
			"source": "%%sql \nUSE jaffle_db",
			"metadata": {
				"trusted": true
			},
			"execution_count": 6,
			"outputs": [
				{
					"name": "stdout",
					"text": "++\n||\n++\n++\n",
					"output_type": "stream"
				}
			],
			"id": "7d78c3a9-8bb4-49e0-9176-bdfb29291f62"
		},
		{
			"cell_type": "code",
			"source": "%%sql\nSHOW TABLES",
			"metadata": {
				"trusted": true
			},
			"execution_count": 7,
			"outputs": [
				{
					"name": "stdout",
					"text": "+---------+-------------+-----------+\n| database|    tableName|isTemporary|\n+---------+-------------+-----------+\n|jaffle_db|raw_customers|      false|\n|jaffle_db|   raw_orders|      false|\n|jaffle_db| raw_payments|      false|\n|jaffle_db|stg_customers|      false|\n|jaffle_db|   stg_orders|      false|\n|jaffle_db| stg_payments|      false|\n|jaffle_db|    customers|      false|\n|jaffle_db|       orders|      false|\n+---------+-------------+-----------+\n",
					"output_type": "stream"
				}
			],
			"id": "8b858e74-37d7-450c-bf4b-92f9af673dd2"
		},
		{
			"cell_type": "markdown",
			"source": "## Run before and after upsert: Insert Mehdi M. with customer id 101 and some orders, update last name of Christina from R. to P.",
			"metadata": {},
			"id": "19d274a4-1610-43a6-a574-b18894a2f73b"
		},
		{
			"cell_type": "code",
			"source": "%%sql\nselect customer_id \\\n,first_name \\\n,last_name \\\n,first_order \\\n,most_recent_order \\\n,number_of_orders \\\n,customer_lifetime_value \\\nfrom glue_catalog.jaffle_db.customers \\\nwhere customer_id in (84,101)",
			"metadata": {
				"trusted": true
			},
			"execution_count": 15,
			"outputs": [
				{
					"name": "stdout",
					"text": "+-----------+----------+---------+-----------+-----------------+----------------+-----------------------+\n|customer_id|first_name|last_name|first_order|most_recent_order|number_of_orders|customer_lifetime_value|\n+-----------+----------+---------+-----------+-----------------+----------------+-----------------------+\n|      101.0|     Mehdi|       M.| 2022-10-04|       2022-15-05|               3|                   17.0|\n|       84.0| Christina|       P.| 2018-01-17|       2018-04-02|               2|                   36.0|\n+-----------+----------+---------+-----------+-----------------+----------------+-----------------------+\n",
					"output_type": "stream"
				}
			],
			"id": "eefe3802-4921-4d3e-a5c4-7cac385db184"
		},
		{
			"cell_type": "markdown",
			"source": "## View History and Snapshots",
			"metadata": {},
			"id": "c546f7e4"
		},
		{
			"cell_type": "code",
			"source": "%%sql\nSELECT * FROM glue_catalog.jaffle_db.customers.history",
			"metadata": {
				"vscode": {
					"languageId": "python_glue_session"
				},
				"trusted": true
			},
			"execution_count": 16,
			"outputs": [
				{
					"name": "stdout",
					"text": "+--------------------+-------------------+-------------------+-------------------+\n|     made_current_at|        snapshot_id|          parent_id|is_current_ancestor|\n+--------------------+-------------------+-------------------+-------------------+\n|2023-01-05 16:45:...|5979839008058067040|               null|               true|\n|2023-01-05 16:57:...|5450052278098493700|5979839008058067040|               true|\n+--------------------+-------------------+-------------------+-------------------+\n",
					"output_type": "stream"
				}
			],
			"id": "15a368b3"
		},
		{
			"cell_type": "code",
			"source": "%%sql\nSELECT * FROM glue_catalog.jaffle_db.customers.snapshots",
			"metadata": {
				"vscode": {
					"languageId": "plaintext"
				},
				"trusted": true
			},
			"execution_count": 17,
			"outputs": [
				{
					"name": "stdout",
					"text": "+--------------------+-------------------+-------------------+---------+--------------------+--------------------+\n|        committed_at|        snapshot_id|          parent_id|operation|       manifest_list|             summary|\n+--------------------+-------------------+-------------------+---------+--------------------+--------------------+\n|2023-01-05 16:45:...|5979839008058067040|               null|   append|s3://demo-dbt-out...|{spark.app.id -> ...|\n|2023-01-05 16:57:...|5450052278098493700|5979839008058067040|overwrite|s3://demo-dbt-out...|{spark.app.id -> ...|\n+--------------------+-------------------+-------------------+---------+--------------------+--------------------+\n",
					"output_type": "stream"
				}
			],
			"id": "83b9e822"
		},
		{
			"cell_type": "code",
			"source": "%%sql\nSELECT h.made_current_at, s.operation, h.snapshot_id, h.is_current_ancestor, s.summary[\"spark.app.id\"] FROM glue_catalog.jaffle_db.customers.history h JOIN glue_catalog.jaffle_db.customers.snapshots s  ON h.snapshot_id = s.snapshot_id ORDER BY made_current_at",
			"metadata": {
				"vscode": {
					"languageId": "plaintext"
				},
				"trusted": true
			},
			"execution_count": 18,
			"outputs": [
				{
					"name": "stdout",
					"text": "+--------------------+---------+-------------------+-------------------+---------------------+\n|     made_current_at|operation|        snapshot_id|is_current_ancestor|summary[spark.app.id]|\n+--------------------+---------+-------------------+-------------------+---------------------+\n|2023-01-05 16:45:...|   append|5979839008058067040|               true| spark-application...|\n|2023-01-05 16:57:...|overwrite|5450052278098493700|               true| spark-application...|\n+--------------------+---------+-------------------+-------------------+---------------------+\n",
					"output_type": "stream"
				}
			],
			"id": "82c05698"
		},
		{
			"cell_type": "markdown",
			"source": "## Stop Session",
			"metadata": {},
			"id": "98770309"
		},
		{
			"cell_type": "code",
			"source": "%stop_session",
			"metadata": {
				"vscode": {
					"languageId": "python_glue_session"
				}
			},
			"execution_count": null,
			"outputs": [],
			"id": "53ccca8e-1692-4da6-af55-9ab52d6fbc08"
		}
	]
}