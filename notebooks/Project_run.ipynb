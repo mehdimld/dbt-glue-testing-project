{
 "cells": [
  {
   "cell_type": "markdown",
   "id": "cebd960a",
   "metadata": {},
   "source": [
    "# dbt & AWS Glue demo"
   ]
  },
  {
   "cell_type": "markdown",
   "id": "3f8676bb",
   "metadata": {},
   "source": [
    "## Project Run"
   ]
  },
  {
   "cell_type": "markdown",
   "id": "cd2fb6a4",
   "metadata": {},
   "source": [
    "### Load csv files"
   ]
  },
  {
   "cell_type": "code",
   "execution_count": 6,
   "id": "7e9a928a",
   "metadata": {},
   "outputs": [
    {
     "name": "stdout",
     "output_type": "stream",
     "text": [
      "\u001b[0m16:19:16  Running with dbt=1.3.1\n",
      "\u001b[0m16:19:16  Found 5 models, 20 tests, 1 snapshot, 0 analyses, 363 macros, 0 operations, 3 seed files, 3 sources, 1 exposure, 0 metrics\n",
      "\u001b[0m16:19:16  \n",
      "\u001b[0m16:20:13  Concurrency: 1 threads (target='dev')\n",
      "\u001b[0m16:20:13  \n",
      "\u001b[0m16:20:13  1 of 1 START seed file jaffle_db.raw_customers ................................. [RUN]\n",
      "\u001b[0m16:20:47  1 of 1 OK loaded seed file jaffle_db.raw_customers ............................. [\u001b[32mCREATE 102\u001b[0m in 34.34s]\n",
      "\u001b[0m16:20:49  \n",
      "\u001b[0m16:20:49  Finished running 1 seed in 0 hours 1 minutes and 32.55 seconds (92.55s).\n",
      "\u001b[0m16:20:49  \n",
      "\u001b[0m16:20:49  \u001b[32mCompleted successfully\u001b[0m\n",
      "\u001b[0m16:20:49  \n",
      "\u001b[0m16:20:49  Done. PASS=1 WARN=0 ERROR=0 SKIP=0 TOTAL=1\n",
      "sys:1: ResourceWarning: unclosed <ssl.SSLSocket fd=10, family=AddressFamily.AF_INET, type=SocketKind.SOCK_STREAM, proto=0, laddr=('10.49.210.49', 50721), raddr=('54.171.112.47', 443)>\n"
     ]
    }
   ],
   "source": [
    "!dbt seed --profiles-dir ../config/ --select raw_customers"
   ]
  },
  {
   "cell_type": "markdown",
   "id": "df88f497",
   "metadata": {},
   "source": [
    "### Execute project"
   ]
  },
  {
   "cell_type": "code",
   "execution_count": 7,
   "id": "e726705d",
   "metadata": {},
   "outputs": [
    {
     "name": "stdout",
     "output_type": "stream",
     "text": [
      "\u001b[0m16:21:44  Running with dbt=1.3.1\n",
      "\u001b[0m16:21:45  Found 5 models, 20 tests, 1 snapshot, 0 analyses, 363 macros, 0 operations, 3 seed files, 3 sources, 1 exposure, 0 metrics\n",
      "\u001b[0m16:21:45  \n",
      "\u001b[0m16:22:29  Concurrency: 1 threads (target='dev')\n",
      "\u001b[0m16:22:29  \n",
      "\u001b[0m16:22:29  1 of 1 START sql incremental model jaffle_db.customers ......................... [RUN]\n",
      "\u001b[0m16:23:56  1 of 1 OK created sql incremental model jaffle_db.customers .................... [\u001b[32mOK\u001b[0m in 87.84s]\n",
      "\u001b[0m16:23:58  \n",
      "\u001b[0m16:23:58  Finished running 1 incremental model in 0 hours 2 minutes and 13.73 seconds (133.73s).\n",
      "\u001b[0m16:23:59  \n",
      "\u001b[0m16:23:59  \u001b[32mCompleted successfully\u001b[0m\n",
      "\u001b[0m16:23:59  \n",
      "\u001b[0m16:23:59  Done. PASS=1 WARN=0 ERROR=0 SKIP=0 TOTAL=1\n",
      "sys:1: ResourceWarning: unclosed <ssl.SSLSocket fd=10, family=AddressFamily.AF_INET, type=SocketKind.SOCK_STREAM, proto=0, laddr=('10.49.210.49', 50818), raddr=('54.77.108.156', 443)>\n"
     ]
    }
   ],
   "source": [
    "! dbt run --profiles-dir ../config/ --select customers"
   ]
  },
  {
   "cell_type": "markdown",
   "id": "e705e755",
   "metadata": {},
   "source": []
  },
  {
   "cell_type": "markdown",
   "id": "e700d3d4",
   "metadata": {},
   "source": [
    "### Perform Test"
   ]
  },
  {
   "cell_type": "code",
   "execution_count": 22,
   "id": "65a00de9",
   "metadata": {
    "scrolled": false
   },
   "outputs": [
    {
     "name": "stdout",
     "output_type": "stream",
     "text": [
      "\u001b[0m16:32:21  Running with dbt=1.3.1\n",
      "\u001b[0m16:32:21  Found 5 models, 20 tests, 1 snapshot, 0 analyses, 363 macros, 0 operations, 3 seed files, 3 sources, 1 exposure, 0 metrics\n",
      "\u001b[0m16:32:21  \n",
      "^C\n"
     ]
    }
   ],
   "source": [
    "! dbt test --profiles-dir ../config/"
   ]
  },
  {
   "cell_type": "markdown",
   "id": "7bab2a8b",
   "metadata": {},
   "source": [
    "### Perform Snapshot"
   ]
  },
  {
   "cell_type": "code",
   "execution_count": null,
   "id": "67fb63b6",
   "metadata": {},
   "outputs": [],
   "source": [
    "! dbt snapshot --profiles-dir ../config/"
   ]
  },
  {
   "cell_type": "markdown",
   "id": "69cf212d",
   "metadata": {},
   "source": [
    "### Generate the documentation"
   ]
  },
  {
   "cell_type": "code",
   "execution_count": null,
   "id": "13ee6198",
   "metadata": {},
   "outputs": [],
   "source": [
    "! dbt docs generate --profiles-dir ../config/"
   ]
  },
  {
   "cell_type": "markdown",
   "id": "7fc29be6",
   "metadata": {},
   "source": [
    "### Expose the documentation"
   ]
  },
  {
   "cell_type": "code",
   "execution_count": null,
   "id": "4fb012c8",
   "metadata": {},
   "outputs": [],
   "source": [
    "! dbt docs serve --profiles-dir ../config/"
   ]
  },
  {
   "cell_type": "markdown",
   "id": "e4776c22",
   "metadata": {},
   "source": [
    "### Incremental test"
   ]
  },
  {
   "cell_type": "code",
   "execution_count": 31,
   "id": "f24d4fcd",
   "metadata": {},
   "outputs": [
    {
     "name": "stdout",
     "output_type": "stream",
     "text": [
      "\u001b[0m16:52:47  Running with dbt=1.3.1\n",
      "\u001b[0m16:52:47  Unable to do partial parsing because a project config has changed\n",
      "\u001b[0m16:52:47  Found 5 models, 20 tests, 1 snapshot, 0 analyses, 363 macros, 0 operations, 3 seed files, 3 sources, 1 exposure, 0 metrics\n",
      "\u001b[0m16:52:47  \n",
      "\u001b[0m16:54:08  Concurrency: 1 threads (target='dev')\n",
      "\u001b[0m16:54:08  \n",
      "\u001b[0m16:54:08  1 of 3 START seed file jaffle_db.raw_customers ................................. [RUN]\n",
      "\u001b[0m16:54:39  1 of 3 OK loaded seed file jaffle_db.raw_customers ............................. [\u001b[32mCREATE 101\u001b[0m in 31.10s]\n",
      "\u001b[0m16:54:39  2 of 3 START seed file jaffle_db.raw_orders .................................... [RUN]\n",
      "\u001b[0m16:54:42  2 of 3 OK loaded seed file jaffle_db.raw_orders ................................ [\u001b[32mCREATE 103\u001b[0m in 3.64s]\n",
      "\u001b[0m16:54:42  3 of 3 START seed file jaffle_db.raw_payments .................................. [RUN]\n",
      "\u001b[0m16:54:47  3 of 3 OK loaded seed file jaffle_db.raw_payments .............................. [\u001b[32mCREATE 117\u001b[0m in 4.83s]\n",
      "\u001b[0m16:54:48  \n",
      "\u001b[0m16:54:48  Finished running 3 seeds in 0 hours 2 minutes and 0.58 seconds (120.58s).\n",
      "\u001b[0m16:54:48  \n",
      "\u001b[0m16:54:48  \u001b[32mCompleted successfully\u001b[0m\n",
      "\u001b[0m16:54:48  \n",
      "\u001b[0m16:54:48  Done. PASS=3 WARN=0 ERROR=0 SKIP=0 TOTAL=3\n",
      "sys:1: ResourceWarning: unclosed <ssl.SSLSocket fd=10, family=AddressFamily.AF_INET, type=SocketKind.SOCK_STREAM, proto=0, laddr=('192.168.8.204', 54243), raddr=('34.255.109.252', 443)>\n"
     ]
    }
   ],
   "source": [
    "!dbt seed --profiles-dir ../config/"
   ]
  },
  {
   "cell_type": "code",
   "execution_count": 32,
   "id": "415a99f8",
   "metadata": {},
   "outputs": [
    {
     "name": "stdout",
     "output_type": "stream",
     "text": [
      "\u001b[0m16:54:51  Running with dbt=1.3.1\n",
      "\u001b[0m16:54:51  Found 5 models, 20 tests, 1 snapshot, 0 analyses, 363 macros, 0 operations, 3 seed files, 3 sources, 1 exposure, 0 metrics\n",
      "\u001b[0m16:54:51  \n",
      "\u001b[0m16:56:03  Concurrency: 1 threads (target='dev')\n",
      "\u001b[0m16:56:03  \n",
      "\u001b[0m16:56:03  1 of 2 START sql incremental model jaffle_db.customers ......................... [RUN]\n",
      "\u001b[0m16:57:27  1 of 2 OK created sql incremental model jaffle_db.customers .................... [\u001b[32mOK\u001b[0m in 84.34s]\n",
      "\u001b[0m16:57:27  2 of 2 START sql incremental model jaffle_db.orders ............................ [RUN]\n",
      "\u001b[0m16:58:19  2 of 2 OK created sql incremental model jaffle_db.orders ....................... [\u001b[32mOK\u001b[0m in 51.77s]\n",
      "\u001b[0m16:58:21  \n",
      "\u001b[0m16:58:21  Finished running 2 incremental models in 0 hours 3 minutes and 30.08 seconds (210.08s).\n",
      "\u001b[0m16:58:21  \n",
      "\u001b[0m16:58:21  \u001b[32mCompleted successfully\u001b[0m\n",
      "\u001b[0m16:58:21  \n",
      "\u001b[0m16:58:21  Done. PASS=2 WARN=0 ERROR=0 SKIP=0 TOTAL=2\n",
      "sys:1: ResourceWarning: unclosed <ssl.SSLSocket fd=10, family=AddressFamily.AF_INET, type=SocketKind.SOCK_STREAM, proto=0, laddr=('192.168.8.204', 54355), raddr=('63.34.49.63', 443)>\n"
     ]
    }
   ],
   "source": [
    "! dbt run --profiles-dir ../config/ --select customers orders"
   ]
  },
  {
   "cell_type": "markdown",
   "id": "9942e222",
   "metadata": {},
   "source": [
    "## Clean Demo"
   ]
  },
  {
   "cell_type": "code",
   "execution_count": 24,
   "id": "fb04e79e",
   "metadata": {},
   "outputs": [],
   "source": [
    "import boto3"
   ]
  },
  {
   "cell_type": "code",
   "execution_count": 26,
   "id": "1f8e63f7",
   "metadata": {},
   "outputs": [],
   "source": [
    "bucket_name = \"demo-dbt-output-788996449432\"\n",
    "\n",
    "s3_client = boto3.client(\"s3\")\n",
    "\n",
    "response = s3_client.list_objects_v2(Bucket=bucket_name)\n",
    "\n",
    "files_in_folder = response[\"Contents\"]\n",
    "files_to_delete = []\n",
    "\n",
    "for f in files_in_folder:\n",
    "    files_to_delete.append({\"Key\": f[\"Key\"]})\n",
    "\n",
    "response = s3_client.delete_objects(\n",
    "    Bucket=bucket_name, Delete={\"Objects\": files_to_delete}\n",
    ")"
   ]
  },
  {
   "cell_type": "code",
   "execution_count": 27,
   "id": "2b28d46b",
   "metadata": {},
   "outputs": [],
   "source": [
    "client = boto3.client('glue')\n",
    "response = client.delete_database(Name='jaffle_db')"
   ]
  },
  {
   "cell_type": "code",
   "execution_count": null,
   "id": "f0fb3a0e",
   "metadata": {},
   "outputs": [],
   "source": []
  }
 ],
 "metadata": {
  "kernelspec": {
   "display_name": "venv",
   "language": "python",
   "name": "python3"
  },
  "language_info": {
   "codemirror_mode": {
    "name": "ipython",
    "version": 3
   },
   "file_extension": ".py",
   "mimetype": "text/x-python",
   "name": "python",
   "nbconvert_exporter": "python",
   "pygments_lexer": "ipython3",
   "version": "3.10.7 (v3.10.7:6cc6b13308, Sep  5 2022, 14:02:52) [Clang 13.0.0 (clang-1300.0.29.30)]"
  },
  "vscode": {
   "interpreter": {
    "hash": "ecfc9e0234ba45f0b6ad9c1de906e5da54181acbc252a1bd8855893fb3e13c93"
   }
  }
 },
 "nbformat": 4,
 "nbformat_minor": 5
}
