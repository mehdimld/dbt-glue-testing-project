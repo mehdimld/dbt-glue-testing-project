{
 "cells": [
  {
   "cell_type": "markdown",
   "id": "15d0afab",
   "metadata": {},
   "source": [
    "# dbt & AWS Glue demo"
   ]
  },
  {
   "cell_type": "markdown",
   "id": "bfcc0452",
   "metadata": {},
   "source": [
    "## Interactive Query"
   ]
  },
  {
   "cell_type": "code",
   "execution_count": 1,
   "id": "21461992",
   "metadata": {
    "vscode": {
     "languageId": "python"
    }
   },
   "outputs": [
    {
     "name": "stdout",
     "output_type": "stream",
     "text": [
      "Available kernels:\n",
      "  pythonjvsc74a57bd0aee8b7b246df8f9039afb4144a1f6fd8d2ca17a180786b69acc140d282b71a49    /Users/mehdmldj/.vscode/extensions/ms-toolsai.jupyter-2022.11.1003412109/temp/jupyter/kernels/pythonjvsc74a57bd0aee8b7b246df8f9039afb4144a1f6fd8d2ca17a180786b69acc140d282b71a49\n",
      "  pythonjvsc74a57bd0ecfc9e0234ba45f0b6ad9c1de906e5da54181acbc252a1bd8855893fb3e13c93    /Users/mehdmldj/.vscode/extensions/ms-toolsai.jupyter-2022.11.1003412109/temp/jupyter/kernels/pythonjvsc74a57bd0ecfc9e0234ba45f0b6ad9c1de906e5da54181acbc252a1bd8855893fb3e13c93\n",
      "  python3                                                                               /Users/mehdmldj/dbt_demo_bkp/venv/share/jupyter/kernels/python3\n",
      "  glue_pyspark                                                                          /usr/local/share/jupyter/kernels/glue_pyspark\n",
      "  glue_spark                                                                            /usr/local/share/jupyter/kernels/glue_spark\n"
     ]
    }
   ],
   "source": [
    "!jupyter kernelspec list"
   ]
  },
  {
   "cell_type": "code",
   "execution_count": 1,
   "id": "aa5a59d5",
   "metadata": {
    "vscode": {
     "languageId": "python"
    }
   },
   "outputs": [
    {
     "name": "stderr",
     "output_type": "stream",
     "text": [
      "UsageError: Line magic function `%glue_version` not found.\n"
     ]
    }
   ],
   "source": [
    "%glue_version 3.0\n",
    "%iam_role \"arn:aws:iam::788996449432:role/AWSGlueServiceRole-dbt\"\n",
    "%idle_timeout 120\n",
    "%profile default"
   ]
  },
  {
   "cell_type": "code",
   "execution_count": 7,
   "id": "4b8c5054",
   "metadata": {
    "vscode": {
     "languageId": "python"
    }
   },
   "outputs": [
    {
     "name": "stdout",
     "output_type": "stream",
     "text": [
      "The following configurations have been updated: {'--conf': 'spark.sql.extensions=io.delta.sql.DeltaSparkSessionExtension --conf spark.sql.catalog.spark_catalog=org.apache.spark.sql.delta.catalog.DeltaCatalog --conf spark.serializer=org.apache.spark.serializer.KryoSerializer', '--connection-names': 'test_benjamin_delta,test_hudi_connector', '--extra-jars': '/tmp/*.jar', '--extra-py-files': '/tmp/delta-core_2.12-1.0.0.jar'}\n"
     ]
    }
   ],
   "source": [
    "%%configure\n",
    "{\"--conf\":\"spark.sql.extensions=io.delta.sql.DeltaSparkSessionExtension --conf spark.sql.catalog.spark_catalog=org.apache.spark.sql.delta.catalog.DeltaCatalog --conf spark.serializer=org.apache.spark.serializer.KryoSerializer\"\n",
    ",\"--connection-names\":\"test_benjamin_delta,test_hudi_connector\"\n",
    ",\"--extra-jars\":\"/tmp/*.jar\"\n",
    ",\"--extra-py-files\":\"/tmp/delta-core_2.12-1.0.0.jar\"\n",
    "}"
   ]
  },
  {
   "cell_type": "code",
   "execution_count": null,
   "id": "150eada0",
   "metadata": {
    "vscode": {
     "languageId": "python"
    }
   },
   "outputs": [
    {
     "name": "stdout",
     "output_type": "stream",
     "text": [
      "Authenticating with profile=default\n",
      "glue_role_arn defined by user: arn:aws:iam::913308485840:role/GlueInteractiveSessionRole\n",
      "Trying to create a Glue session for the kernel.\n",
      "Worker Type: G.1X\n",
      "Number of Workers: 5\n",
      "Session ID: benjamin-e42896d1-c952-462a-91b3-333d535d731f\n",
      "Applying the following default arguments:\n",
      "--glue_kernel_version 0.35\n",
      "--enable-glue-datacatalog true\n",
      "--conf spark.sql.extensions=io.delta.sql.DeltaSparkSessionExtension --conf spark.sql.catalog.spark_catalog=org.apache.spark.sql.delta.catalog.DeltaCatalog --conf spark.serializer=org.apache.spark.serializer.KryoSerializer\n",
      "--connection-names test_benjamin_delta,test_hudi_connector\n",
      "--extra-jars /tmp/*.jar\n",
      "--extra-py-files /tmp/delta-core_2.12-1.0.0.jar\n",
      "Waiting for session benjamin-e42896d1-c952-462a-91b3-333d535d731f to get into ready status...\n",
      "Session benjamin-e42896d1-c952-462a-91b3-333d535d731f has been created\n",
      "\n",
      "\n"
     ]
    }
   ],
   "source": [
    "import sys\n",
    "import boto3\n",
    "from awsglue.transforms import *\n",
    "from awsglue.utils import getResolvedOptions\n",
    "from pyspark.context import SparkContext\n",
    "from awsglue.context import GlueContext\n",
    "from awsglue.job import Job\n",
    "from awsglue import DynamicFrame\n",
    "\n",
    "sc = SparkContext.getOrCreate()\n",
    "glueContext = GlueContext(sc)\n",
    "spark = glueContext.spark_session\n",
    "job = Job(glueContext)"
   ]
  },
  {
   "cell_type": "code",
   "execution_count": 2,
   "id": "51c52b6d",
   "metadata": {
    "vscode": {
     "languageId": "python"
    }
   },
   "outputs": [
    {
     "name": "stdout",
     "output_type": "stream",
     "text": [
      "+-----------+----------+---------+-----------+-----------------+----------------+-----------------------+\n",
      "|customer_id|first_name|last_name|first_order|most_recent_order|number_of_orders|customer_lifetime_value|\n",
      "+-----------+----------+---------+-----------+-----------------+----------------+-----------------------+\n",
      "|        1.0|   Michael|       P.| 2018-01-01|       2022-10-05|               3|                   76.0|\n",
      "+-----------+----------+---------+-----------+-----------------+----------------+-----------------------+\n"
     ]
    }
   ],
   "source": [
    "%%sql\n",
    "select customer_id \\\n",
    ",first_name \\\n",
    ",last_name \\\n",
    ",first_order \\\n",
    ",most_recent_order \\\n",
    ",number_of_orders \\\n",
    ",customer_lifetime_value \\\n",
    "from dbt_demo_01.customers \\\n",
    "where customer_id = '1.0'"
   ]
  },
  {
   "cell_type": "code",
   "execution_count": 3,
   "id": "c4b56cfd",
   "metadata": {
    "vscode": {
     "languageId": "python"
    }
   },
   "outputs": [
    {
     "name": "stdout",
     "output_type": "stream",
     "text": [
      "+-----------+----------+---------+-----------+-----------------+----------------+--------------+------------+\n",
      "|customer_id|first_name|last_name|first_order|most_recent_order|number_of_orders|dbt_valid_from|dbt_valid_to|\n",
      "+-----------+----------+---------+-----------+-----------------+----------------+--------------+------------+\n",
      "|        1.0|   Michael|       P.| 2018-01-01|       2018-02-10|               2|    2022-10-07|        null|\n",
      "+-----------+----------+---------+-----------+-----------------+----------------+--------------+------------+\n"
     ]
    }
   ],
   "source": [
    "%%sql\n",
    "select customer_id\n",
    ",first_name\n",
    ",last_name\n",
    ",first_order\n",
    ",most_recent_order\n",
    ",number_of_orders\n",
    ",dbt_valid_from\n",
    ",dbt_valid_to\n",
    "from dbt_demo_01.demosnapshot\n",
    "where customer_id = '1.0'"
   ]
  }
 ],
 "metadata": {
  "kernelspec": {
   "display_name": "Glue PySpark",
   "language": "python",
   "name": "glue_pyspark"
  },
  "vscode": {
   "interpreter": {
    "hash": "ecfc9e0234ba45f0b6ad9c1de906e5da54181acbc252a1bd8855893fb3e13c93"
   }
  }
 },
 "nbformat": 4,
 "nbformat_minor": 5
}
