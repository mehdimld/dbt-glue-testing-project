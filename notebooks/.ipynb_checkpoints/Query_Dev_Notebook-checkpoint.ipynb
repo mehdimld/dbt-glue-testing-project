{
 "cells": [
  {
   "cell_type": "markdown",
   "id": "4bf22527",
   "metadata": {},
   "source": [
    "# dbt & AWS Glue demo"
   ]
  },
  {
   "cell_type": "code",
   "execution_count": 11,
   "id": "d4c23046",
   "metadata": {},
   "outputs": [
    {
     "name": "stdout",
     "output_type": "stream",
     "text": [
      "Setting Glue version to: 3.0\n",
      "Current iam_role is arn:aws:iam::913308485840:role/GlueInteractiveSessionRole\n",
      "iam_role has been set to arn:aws:iam::913308485840:role/GlueInteractiveSessionRole.\n",
      "Current idle_timeout is 120 minutes.\n",
      "idle_timeout has been set to 120 minutes.\n",
      "Previous profile: modern_dashboard\n",
      "Setting new profile to: default\n"
     ]
    }
   ],
   "source": [
    "%glue_version 3.0\n",
    "%iam_role \"arn:aws:iam::913308485840:role/GlueInteractiveSessionRole\"\n",
    "%idle_timeout 120\n",
    "%profile default"
   ]
  },
  {
   "cell_type": "code",
   "execution_count": 0,
   "id": "2b0e22b7",
   "metadata": {},
   "outputs": [
    {
     "name": "stdout",
     "output_type": "stream",
     "text": [
      "Trying to create a Glue session for the kernel.\n",
      "Worker Type: G.1X\n",
      "Number of Workers: 5\n",
      "Session ID: benjamin-e4be7023-3f45-4db9-b312-f525de9b8eaa\n",
      "Applying the following default arguments:\n",
      "--glue_kernel_version 0.35\n",
      "--enable-glue-datacatalog true\n",
      "Waiting for session benjamin-e4be7023-3f45-4db9-b312-f525de9b8eaa to get into ready status...\n",
      "Session benjamin-e4be7023-3f45-4db9-b312-f525de9b8eaa has been created\n",
      "\n",
      "\n"
     ]
    }
   ],
   "source": [
    "import sys\n",
    "import boto3\n",
    "from awsglue.transforms import *\n",
    "from awsglue.utils import getResolvedOptions\n",
    "from pyspark.context import SparkContext\n",
    "from awsglue.context import GlueContext\n",
    "from awsglue.job import Job\n",
    "from awsglue import DynamicFrame\n",
    "\n",
    "sc = SparkContext.getOrCreate()\n",
    "glueContext = GlueContext(sc)\n",
    "spark = glueContext.spark_session\n",
    "job = Job(glueContext)"
   ]
  },
  {
   "cell_type": "markdown",
   "id": "8af7d1ab",
   "metadata": {},
   "source": [
    "# Last Step - Clean Demo"
   ]
  },
  {
   "cell_type": "code",
   "execution_count": 2,
   "id": "f96b1d07",
   "metadata": {},
   "outputs": [
    {
     "name": "stdout",
     "output_type": "stream",
     "text": [
      "KeyError: 'Contents'\n"
     ]
    }
   ],
   "source": [
    "\"\"\"\n",
    "This function deletes all files in a folder from S3 bucket\n",
    ":return: None\n",
    "\"\"\"\n",
    "bucket_name = \"aws-dbt-glue-datalake-913308485840-eu-west-1\"\n",
    "\n",
    "s3_client = boto3.client(\"s3\")\n",
    "# First we list all files in folder\n",
    "response = s3_client.list_objects_v2(Bucket=bucket_name, Prefix=\"/\")\n",
    "files_in_folder = response[\"Contents\"]\n",
    "files_to_delete = []\n",
    "# We will create Key array to pass to delete_objects function\n",
    "for f in files_in_folder:\n",
    "    files_to_delete.append({\"Key\": f[\"Key\"]})\n",
    "# This will delete all files in a folder\n",
    "response = s3_client.delete_objects(\n",
    "    Bucket=bucket_name, Delete={\"Objects\": files_to_delete}\n",
    ")\n",
    "print(response)"
   ]
  },
  {
   "cell_type": "code",
   "execution_count": null,
   "id": "c121d693",
   "metadata": {},
   "outputs": [],
   "source": []
  }
 ],
 "metadata": {
  "kernelspec": {
   "display_name": "Glue PySpark",
   "language": "python",
   "name": "glue_pyspark"
  },
  "language_info": {
   "codemirror_mode": {
    "name": "python",
    "version": 3
   },
   "file_extension": ".py",
   "mimetype": "text/x-python",
   "name": "Python_Glue_Session",
   "pygments_lexer": "python3"
  }
 },
 "nbformat": 4,
 "nbformat_minor": 5
}
