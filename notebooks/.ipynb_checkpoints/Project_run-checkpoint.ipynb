{
 "cells": [
  {
   "cell_type": "markdown",
   "id": "ee82556d",
   "metadata": {},
   "source": [
    "# dbt & AWS Glue demo"
   ]
  },
  {
   "cell_type": "markdown",
   "id": "7643b553",
   "metadata": {},
   "source": [
    "## Project Run"
   ]
  },
  {
   "cell_type": "markdown",
   "id": "a2c21941",
   "metadata": {},
   "source": [
    "### Load csv files"
   ]
  },
  {
   "cell_type": "code",
   "execution_count": 2,
   "id": "017d1df7",
   "metadata": {},
   "outputs": [
    {
     "name": "stdout",
     "output_type": "stream",
     "text": [
      "\u001b[0m10:07:43  Encountered an error while reading the project:\n",
      "\u001b[0m10:07:43    ERROR: Runtime Error\n",
      "  Could not find profile named 'jaffle_shop'\n",
      "\u001b[0m10:07:43  Encountered an error:\n",
      "Runtime Error\n",
      "  Could not run dbt\n"
     ]
    }
   ],
   "source": [
    "! dbt seed --profiles-dir ./config/ "
   ]
  },
  {
   "cell_type": "markdown",
   "id": "e3779175",
   "metadata": {},
   "source": [
    "### Execute project"
   ]
  },
  {
   "cell_type": "code",
   "execution_count": 30,
   "id": "bec6941e",
   "metadata": {},
   "outputs": [
    {
     "name": "stdout",
     "output_type": "stream",
     "text": [
      "\u001b[0m17:06:50  Running with dbt=1.2.2\n",
      "\u001b[0m17:06:50  Found 5 models, 20 tests, 1 snapshot, 0 analyses, 323 macros, 0 operations, 3 seed files, 0 sources, 1 exposure, 0 metrics\n",
      "\u001b[0m17:06:50  \n",
      "\u001b[0m17:07:39  Concurrency: 1 threads (target='dev')\n",
      "\u001b[0m17:07:39  \n",
      "\u001b[0m17:07:39  1 of 5 START view model dbt_demo_01.stg_customers .............................. [RUN]\n",
      "\u001b[0m17:07:56  1 of 5 OK created view model dbt_demo_01.stg_customers ......................... [\u001b[32mOK\u001b[0m in 17.09s]\n",
      "\u001b[0m17:07:56  2 of 5 START view model dbt_demo_01.stg_orders ................................. [RUN]\n",
      "\u001b[0m17:07:59  2 of 5 OK created view model dbt_demo_01.stg_orders ............................ [\u001b[32mOK\u001b[0m in 3.63s]\n",
      "\u001b[0m17:07:59  3 of 5 START view model dbt_demo_01.stg_payments ............................... [RUN]\n",
      "\u001b[0m17:08:05  3 of 5 OK created view model dbt_demo_01.stg_payments .......................... [\u001b[32mOK\u001b[0m in 5.76s]\n",
      "\u001b[0m17:08:05  4 of 5 START incremental model dbt_demo_01.customers ........................... [RUN]\n",
      "\u001b[0m17:08:37  4 of 5 OK created incremental model dbt_demo_01.customers ...................... [\u001b[32mOK\u001b[0m in 32.33s]\n",
      "\u001b[0m17:08:37  5 of 5 START incremental model dbt_demo_01.orders .............................. [RUN]\n",
      "\u001b[0m17:09:07  5 of 5 OK created incremental model dbt_demo_01.orders ......................... [\u001b[32mOK\u001b[0m in 30.10s]\n",
      "\u001b[0m17:09:08  \n",
      "\u001b[0m17:09:08  Finished running 3 view models, 2 incremental models in 0 hours 2 minutes and 17.70 seconds (137.70s).\n",
      "\u001b[0m17:09:08  \n",
      "\u001b[0m17:09:08  \u001b[32mCompleted successfully\u001b[0m\n",
      "\u001b[0m17:09:08  \n",
      "\u001b[0m17:09:08  Done. PASS=5 WARN=0 ERROR=0 SKIP=0 TOTAL=5\n",
      "sys:1: ResourceWarning: unclosed <ssl.SSLSocket fd=16, family=AddressFamily.AF_INET, type=SocketKind.SOCK_STREAM, proto=0, laddr=('10.49.210.48', 53356), raddr=('52.211.147.167', 443)>\n",
      "sys:1: ResourceWarning: unclosed <ssl.SSLSocket fd=10, family=AddressFamily.AF_INET, type=SocketKind.SOCK_STREAM, proto=0, laddr=('10.49.210.48', 53355), raddr=('52.211.147.167', 443)>\n",
      "sys:1: ResourceWarning: unclosed <ssl.SSLSocket fd=18, family=AddressFamily.AF_INET, type=SocketKind.SOCK_STREAM, proto=0, laddr=('10.49.210.48', 53362), raddr=('54.217.67.117', 443)>\n",
      "sys:1: ResourceWarning: unclosed <ssl.SSLSocket fd=17, family=AddressFamily.AF_INET, type=SocketKind.SOCK_STREAM, proto=0, laddr=('10.49.210.48', 53361), raddr=('54.217.67.117', 443)>\n",
      "sys:1: ResourceWarning: unclosed <ssl.SSLSocket fd=20, family=AddressFamily.AF_INET, type=SocketKind.SOCK_STREAM, proto=0, laddr=('10.49.210.48', 53366), raddr=('52.215.48.116', 443)>\n",
      "sys:1: ResourceWarning: unclosed <ssl.SSLSocket fd=19, family=AddressFamily.AF_INET, type=SocketKind.SOCK_STREAM, proto=0, laddr=('10.49.210.48', 53364), raddr=('54.78.178.246', 443)>\n",
      "sys:1: ResourceWarning: unclosed <ssl.SSLSocket fd=22, family=AddressFamily.AF_INET, type=SocketKind.SOCK_STREAM, proto=0, laddr=('10.49.210.48', 53371), raddr=('52.30.68.31', 443)>\n",
      "sys:1: ResourceWarning: unclosed <ssl.SSLSocket fd=23, family=AddressFamily.AF_INET, type=SocketKind.SOCK_STREAM, proto=0, laddr=('10.49.210.48', 53372), raddr=('63.33.27.130', 443)>\n",
      "sys:1: ResourceWarning: unclosed <ssl.SSLSocket fd=21, family=AddressFamily.AF_INET, type=SocketKind.SOCK_STREAM, proto=0, laddr=('10.49.210.48', 53369), raddr=('52.30.68.31', 443)>\n",
      "sys:1: ResourceWarning: unclosed <ssl.SSLSocket fd=25, family=AddressFamily.AF_INET, type=SocketKind.SOCK_STREAM, proto=0, laddr=('10.49.210.48', 53381), raddr=('52.214.57.46', 443)>\n"
     ]
    }
   ],
   "source": [
    "! dbt run"
   ]
  },
  {
   "cell_type": "markdown",
   "id": "0985c15c",
   "metadata": {},
   "source": [
    "### Perform Test"
   ]
  },
  {
   "cell_type": "code",
   "execution_count": 31,
   "id": "3360a4c6",
   "metadata": {
    "scrolled": false
   },
   "outputs": [
    {
     "name": "stdout",
     "output_type": "stream",
     "text": [
      "\u001b[0m17:09:25  Running with dbt=1.2.2\n",
      "\u001b[0m17:09:25  Found 5 models, 20 tests, 1 snapshot, 0 analyses, 323 macros, 0 operations, 3 seed files, 0 sources, 1 exposure, 0 metrics\n",
      "\u001b[0m17:09:25  \n",
      "\u001b[0m17:10:06  Concurrency: 1 threads (target='dev')\n",
      "\u001b[0m17:10:06  \n",
      "\u001b[0m17:10:06  1 of 20 START test accepted_values_orders_status__placed__shipped__completed__return_pending__returned  [RUN]\n",
      "\u001b[0m17:10:42  1 of 20 PASS accepted_values_orders_status__placed__shipped__completed__return_pending__returned  [\u001b[32mPASS\u001b[0m in 35.99s]\n",
      "\u001b[0m17:10:42  2 of 20 START test accepted_values_stg_orders_status__placed__shipped__completed__return_pending__returned  [RUN]\n",
      "\u001b[0m17:10:47  2 of 20 PASS accepted_values_stg_orders_status__placed__shipped__completed__return_pending__returned  [\u001b[32mPASS\u001b[0m in 4.36s]\n",
      "\u001b[0m17:10:47  3 of 20 START test accepted_values_stg_payments_payment_method__credit_card__coupon__bank_transfer__gift_card  [RUN]\n",
      "\u001b[0m17:10:50  3 of 20 PASS accepted_values_stg_payments_payment_method__credit_card__coupon__bank_transfer__gift_card  [\u001b[32mPASS\u001b[0m in 3.30s]\n",
      "\u001b[0m17:10:50  4 of 20 START test not_null_customers_customer_id .............................. [RUN]\n",
      "\u001b[0m17:10:53  4 of 20 PASS not_null_customers_customer_id .................................... [\u001b[32mPASS\u001b[0m in 3.23s]\n",
      "\u001b[0m17:10:53  5 of 20 START test not_null_orders_amount ...................................... [RUN]\n",
      "\u001b[0m17:10:56  5 of 20 PASS not_null_orders_amount ............................................ [\u001b[32mPASS\u001b[0m in 3.23s]\n",
      "\u001b[0m17:10:56  6 of 20 START test not_null_orders_bank_transfer_amount ........................ [RUN]\n",
      "\u001b[0m17:11:00  6 of 20 PASS not_null_orders_bank_transfer_amount .............................. [\u001b[32mPASS\u001b[0m in 3.22s]\n",
      "\u001b[0m17:11:00  7 of 20 START test not_null_orders_coupon_amount ............................... [RUN]\n",
      "\u001b[0m17:11:03  7 of 20 PASS not_null_orders_coupon_amount ..................................... [\u001b[32mPASS\u001b[0m in 3.23s]\n",
      "\u001b[0m17:11:03  8 of 20 START test not_null_orders_credit_card_amount .......................... [RUN]\n",
      "\u001b[0m17:11:07  8 of 20 PASS not_null_orders_credit_card_amount ................................ [\u001b[32mPASS\u001b[0m in 4.43s]\n",
      "\u001b[0m17:11:07  9 of 20 START test not_null_orders_customer_id ................................. [RUN]\n",
      "\u001b[0m17:11:10  9 of 20 PASS not_null_orders_customer_id ....................................... [\u001b[32mPASS\u001b[0m in 3.23s]\n",
      "\u001b[0m17:11:10  10 of 20 START test not_null_orders_gift_card_amount ........................... [RUN]\n",
      "\u001b[0m17:11:15  10 of 20 PASS not_null_orders_gift_card_amount ................................. [\u001b[32mPASS\u001b[0m in 4.80s]\n",
      "\u001b[0m17:11:15  11 of 20 START test not_null_orders_order_id ................................... [RUN]\n",
      "\u001b[0m17:11:19  11 of 20 PASS not_null_orders_order_id ......................................... [\u001b[32mPASS\u001b[0m in 3.38s]\n",
      "\u001b[0m17:11:19  12 of 20 START test not_null_stg_customers_customer_id ......................... [RUN]\n",
      "\u001b[0m17:11:23  12 of 20 PASS not_null_stg_customers_customer_id ............................... [\u001b[32mPASS\u001b[0m in 4.42s]\n",
      "\u001b[0m17:11:23  13 of 20 START test not_null_stg_orders_order_id ............................... [RUN]\n",
      "\u001b[0m17:11:25  13 of 20 PASS not_null_stg_orders_order_id ..................................... [\u001b[32mPASS\u001b[0m in 2.16s]\n",
      "\u001b[0m17:11:25  14 of 20 START test not_null_stg_payments_payment_id ........................... [RUN]\n",
      "\u001b[0m17:11:29  14 of 20 PASS not_null_stg_payments_payment_id ................................. [\u001b[32mPASS\u001b[0m in 3.49s]\n",
      "\u001b[0m17:11:29  15 of 20 START test relationships_orders_customer_id__customer_id__ref_customers_  [RUN]\n",
      "\u001b[0m17:11:33  15 of 20 PASS relationships_orders_customer_id__customer_id__ref_customers_ .... [\u001b[32mPASS\u001b[0m in 4.46s]\n",
      "\u001b[0m17:11:33  16 of 20 START test unique_customers_customer_id ............................... [RUN]\n",
      "\u001b[0m17:11:36  16 of 20 PASS unique_customers_customer_id ..................................... [\u001b[32mPASS\u001b[0m in 3.24s]\n",
      "\u001b[0m17:11:36  17 of 20 START test unique_orders_order_id ..................................... [RUN]\n",
      "\u001b[0m17:11:40  17 of 20 PASS unique_orders_order_id ........................................... [\u001b[32mPASS\u001b[0m in 3.20s]\n",
      "\u001b[0m17:11:40  18 of 20 START test unique_stg_customers_customer_id ........................... [RUN]\n",
      "\u001b[0m17:11:43  18 of 20 PASS unique_stg_customers_customer_id ................................. [\u001b[32mPASS\u001b[0m in 3.15s]\n",
      "\u001b[0m17:11:43  19 of 20 START test unique_stg_orders_order_id ................................. [RUN]\n",
      "\u001b[0m17:11:46  19 of 20 PASS unique_stg_orders_order_id ....................................... [\u001b[32mPASS\u001b[0m in 3.35s]\n",
      "\u001b[0m17:11:46  20 of 20 START test unique_stg_payments_payment_id ............................. [RUN]\n",
      "\u001b[0m17:11:50  20 of 20 PASS unique_stg_payments_payment_id ................................... [\u001b[32mPASS\u001b[0m in 3.74s]\n",
      "\u001b[0m17:11:51  \n",
      "\u001b[0m17:11:51  Finished running 20 tests in 0 hours 2 minutes and 25.94 seconds (145.94s).\n",
      "\u001b[0m17:11:51  \n",
      "\u001b[0m17:11:51  \u001b[32mCompleted successfully\u001b[0m\n",
      "\u001b[0m17:11:51  \n",
      "\u001b[0m17:11:51  Done. PASS=20 WARN=0 ERROR=0 SKIP=0 TOTAL=20\n",
      "sys:1: ResourceWarning: unclosed <ssl.SSLSocket fd=10, family=AddressFamily.AF_INET, type=SocketKind.SOCK_STREAM, proto=0, laddr=('10.49.210.48', 53479), raddr=('54.229.34.75', 443)>\n"
     ]
    }
   ],
   "source": [
    "! dbt test"
   ]
  },
  {
   "cell_type": "markdown",
   "id": "068ff9ad",
   "metadata": {},
   "source": [
    "### Perform Snapshot"
   ]
  },
  {
   "cell_type": "code",
   "execution_count": 33,
   "id": "5297ff9b",
   "metadata": {},
   "outputs": [
    {
     "name": "stdout",
     "output_type": "stream",
     "text": [
      "\u001b[0m17:12:55  Running with dbt=1.2.2\n",
      "\u001b[0m17:12:55  Found 5 models, 20 tests, 1 snapshot, 0 analyses, 323 macros, 0 operations, 3 seed files, 0 sources, 1 exposure, 0 metrics\n",
      "\u001b[0m17:12:55  \n",
      "\u001b[0m17:13:43  Concurrency: 1 threads (target='dev')\n",
      "\u001b[0m17:13:43  \n",
      "\u001b[0m17:13:43  1 of 1 START snapshot dbt_demo_01.demosnapshot ................................. [RUN]\n",
      "\u001b[0m17:13:45  \u001b[31mUnhandled error while executing snapshot.jaffle_shop.demosnapshot\u001b[0m\n",
      "local variable 'partition_list' referenced before assignment\n",
      "\u001b[0m17:13:45  1 of 1 ERROR snapshotting dbt_demo_01.demosnapshot ............................. [\u001b[31mERROR\u001b[0m in 1.66s]\n",
      "\u001b[0m17:13:46  \n",
      "\u001b[0m17:13:46  Finished running 1 snapshot in 0 hours 0 minutes and 50.43 seconds (50.43s).\n",
      "\u001b[0m17:13:46  \n",
      "\u001b[0m17:13:46  \u001b[31mCompleted with 1 error and 0 warnings:\u001b[0m\n",
      "\u001b[0m17:13:46  \n",
      "\u001b[0m17:13:46  \u001b[33mlocal variable 'partition_list' referenced before assignment\u001b[0m\n",
      "\u001b[0m17:13:46  \n",
      "\u001b[0m17:13:46  Done. PASS=0 WARN=0 ERROR=1 SKIP=0 TOTAL=1\n",
      "sys:1: ResourceWarning: unclosed <ssl.SSLSocket fd=16, family=AddressFamily.AF_INET, type=SocketKind.SOCK_STREAM, proto=0, laddr=('10.49.210.48', 53575), raddr=('18.200.4.195', 443)>\n",
      "sys:1: ResourceWarning: unclosed <ssl.SSLSocket fd=17, family=AddressFamily.AF_INET, type=SocketKind.SOCK_STREAM, proto=0, laddr=('10.49.210.48', 53577), raddr=('18.200.4.195', 443)>\n"
     ]
    }
   ],
   "source": [
    "! dbt snapshot"
   ]
  },
  {
   "cell_type": "markdown",
   "id": "02976b39",
   "metadata": {},
   "source": [
    "### Generate the documentation"
   ]
  },
  {
   "cell_type": "code",
   "execution_count": 24,
   "id": "1fa9acae",
   "metadata": {},
   "outputs": [
    {
     "name": "stdout",
     "output_type": "stream",
     "text": [
      "\u001b[0m17:02:25  Running with dbt=1.2.2\n",
      "\u001b[0m17:02:25  Found 5 models, 20 tests, 1 snapshot, 0 analyses, 323 macros, 0 operations, 3 seed files, 0 sources, 1 exposure, 0 metrics\n",
      "\u001b[0m17:02:25  \n",
      "\u001b[0m17:03:07  Concurrency: 1 threads (target='dev')\n",
      "\u001b[0m17:03:07  \n",
      "\u001b[0m17:03:08  Done.\n",
      "\u001b[0m17:03:08  Building catalog\n",
      "\u001b[0m17:04:33  Catalog written to /Users/menuetb/tmp/dbt_demo/target/catalog.json\n"
     ]
    }
   ],
   "source": [
    "! dbt docs generate"
   ]
  },
  {
   "cell_type": "markdown",
   "id": "5bf94fbd",
   "metadata": {},
   "source": [
    "### Expose the documentation"
   ]
  },
  {
   "cell_type": "code",
   "execution_count": 25,
   "id": "c14d9f26",
   "metadata": {},
   "outputs": [
    {
     "name": "stdout",
     "output_type": "stream",
     "text": [
      "\u001b[0m17:04:38  Running with dbt=1.2.2\n",
      "\u001b[0m17:04:38  Serving docs at 0.0.0.0:8080\n",
      "\u001b[0m17:04:38  To access from your browser, navigate to:  http://localhost:8080\n",
      "\u001b[0m17:04:38  \n",
      "\u001b[0m17:04:38  \n",
      "\u001b[0m17:04:38  Press Ctrl+C to exit.\n",
      "127.0.0.1 - - [04/Oct/2022 19:04:38] \"GET / HTTP/1.1\" 200 -\n",
      "127.0.0.1 - - [04/Oct/2022 19:04:39] \"GET /manifest.json?cb=1664903079310 HTTP/1.1\" 200 -\n",
      "127.0.0.1 - - [04/Oct/2022 19:04:39] \"GET /catalog.json?cb=1664903079310 HTTP/1.1\" 200 -\n",
      "^C\n"
     ]
    }
   ],
   "source": [
    "! dbt docs serve"
   ]
  },
  {
   "cell_type": "markdown",
   "id": "9b0aaf15",
   "metadata": {},
   "source": [
    "### Incremental test"
   ]
  },
  {
   "cell_type": "markdown",
   "id": "68eee561",
   "metadata": {},
   "source": [
    "Add\n",
    "in orders:\n",
    "100,1,2022-10-05,completed\n",
    "in payments:\n",
    "114,100,credit_card,1000"
   ]
  },
  {
   "cell_type": "code",
   "execution_count": 34,
   "id": "1207623a",
   "metadata": {},
   "outputs": [
    {
     "name": "stdout",
     "output_type": "stream",
     "text": [
      "\u001b[0m17:14:20  Running with dbt=1.2.2\n",
      "\u001b[0m17:14:20  Found 5 models, 20 tests, 1 snapshot, 0 analyses, 323 macros, 0 operations, 3 seed files, 0 sources, 1 exposure, 0 metrics\n",
      "\u001b[0m17:14:20  \n",
      "\u001b[0m17:15:04  Concurrency: 1 threads (target='dev')\n",
      "\u001b[0m17:15:04  \n",
      "\u001b[0m17:15:04  1 of 3 START seed file dbt_demo_01.raw_customers ............................... [RUN]\n",
      "\u001b[0m17:15:26  1 of 3 OK loaded seed file dbt_demo_01.raw_customers ........................... [\u001b[32mCREATE 100\u001b[0m in 22.57s]\n",
      "\u001b[0m17:15:26  2 of 3 START seed file dbt_demo_01.raw_orders .................................. [RUN]\n",
      "\u001b[0m17:15:32  2 of 3 OK loaded seed file dbt_demo_01.raw_orders .............................. [\u001b[32mCREATE 100\u001b[0m in 5.77s]\n",
      "\u001b[0m17:15:32  3 of 3 START seed file dbt_demo_01.raw_payments ................................ [RUN]\n",
      "\u001b[0m17:15:37  3 of 3 OK loaded seed file dbt_demo_01.raw_payments ............................ [\u001b[32mCREATE 114\u001b[0m in 4.60s]\n",
      "\u001b[0m17:15:38  \n",
      "\u001b[0m17:15:38  Finished running 3 seeds in 0 hours 1 minutes and 17.83 seconds (77.83s).\n",
      "\u001b[0m17:15:38  \n",
      "\u001b[0m17:15:38  \u001b[32mCompleted successfully\u001b[0m\n",
      "\u001b[0m17:15:38  \n",
      "\u001b[0m17:15:38  Done. PASS=3 WARN=0 ERROR=0 SKIP=0 TOTAL=3\n",
      "sys:1: ResourceWarning: unclosed <ssl.SSLSocket fd=10, family=AddressFamily.AF_INET, type=SocketKind.SOCK_STREAM, proto=0, laddr=('10.49.210.48', 53709), raddr=('54.77.209.152', 443)>\n"
     ]
    }
   ],
   "source": [
    "! dbt seed"
   ]
  },
  {
   "cell_type": "code",
   "execution_count": 36,
   "id": "737a8726",
   "metadata": {},
   "outputs": [
    {
     "name": "stdout",
     "output_type": "stream",
     "text": [
      "\u001b[0m17:18:09  Running with dbt=1.2.2\n",
      "\u001b[0m17:18:10  Found 5 models, 20 tests, 1 snapshot, 0 analyses, 323 macros, 0 operations, 3 seed files, 0 sources, 1 exposure, 0 metrics\n",
      "\u001b[0m17:18:10  \n",
      "\u001b[0m17:18:52  Concurrency: 1 threads (target='dev')\n",
      "\u001b[0m17:18:52  \n",
      "\u001b[0m17:18:52  1 of 5 START view model dbt_demo_01.stg_customers .............................. [RUN]\n",
      "\u001b[0m17:19:05  1 of 5 OK created view model dbt_demo_01.stg_customers ......................... [\u001b[32mOK\u001b[0m in 12.50s]\n",
      "\u001b[0m17:19:05  2 of 5 START view model dbt_demo_01.stg_orders ................................. [RUN]\n",
      "\u001b[0m17:19:11  2 of 5 OK created view model dbt_demo_01.stg_orders ............................ [\u001b[32mOK\u001b[0m in 6.85s]\n",
      "\u001b[0m17:19:11  3 of 5 START view model dbt_demo_01.stg_payments ............................... [RUN]\n",
      "\u001b[0m17:19:17  3 of 5 OK created view model dbt_demo_01.stg_payments .......................... [\u001b[32mOK\u001b[0m in 5.71s]\n",
      "\u001b[0m17:19:17  4 of 5 START incremental model dbt_demo_01.customers ........................... [RUN]\n",
      "\u001b[0m17:19:51  4 of 5 OK created incremental model dbt_demo_01.customers ...................... [\u001b[32mOK\u001b[0m in 33.69s]\n",
      "\u001b[0m17:19:51  5 of 5 START incremental model dbt_demo_01.orders .............................. [RUN]\n",
      "\u001b[0m17:20:28  5 of 5 OK created incremental model dbt_demo_01.orders ......................... [\u001b[32mOK\u001b[0m in 37.49s]\n",
      "\u001b[0m17:20:29  \n",
      "\u001b[0m17:20:29  Finished running 3 view models, 2 incremental models in 0 hours 2 minutes and 19.42 seconds (139.42s).\n",
      "\u001b[0m17:20:29  \n",
      "\u001b[0m17:20:29  \u001b[32mCompleted successfully\u001b[0m\n",
      "\u001b[0m17:20:29  \n",
      "\u001b[0m17:20:29  Done. PASS=5 WARN=0 ERROR=0 SKIP=0 TOTAL=5\n",
      "sys:1: ResourceWarning: unclosed <ssl.SSLSocket fd=10, family=AddressFamily.AF_INET, type=SocketKind.SOCK_STREAM, proto=0, laddr=('10.49.210.48', 53850), raddr=('34.251.230.248', 443)>\n"
     ]
    }
   ],
   "source": [
    "! dbt run --select customers"
   ]
  },
  {
   "cell_type": "markdown",
   "id": "81b97b51",
   "metadata": {},
   "source": [
    "## Last Step - Clean Demo"
   ]
  },
  {
   "cell_type": "code",
   "execution_count": 26,
   "id": "5a32dec2",
   "metadata": {},
   "outputs": [],
   "source": [
    "import boto3"
   ]
  },
  {
   "cell_type": "code",
   "execution_count": 27,
   "id": "fc3e029d",
   "metadata": {},
   "outputs": [],
   "source": [
    "bucket_name = \"aws-dbt-glue-datalake-913308485840-eu-west-1\"\n",
    "\n",
    "s3_client = boto3.client(\"s3\")\n",
    "\n",
    "response = s3_client.list_objects_v2(Bucket=bucket_name)\n",
    "\n",
    "files_in_folder = response[\"Contents\"]\n",
    "files_to_delete = []\n",
    "\n",
    "for f in files_in_folder:\n",
    "    files_to_delete.append({\"Key\": f[\"Key\"]})\n",
    "\n",
    "response = s3_client.delete_objects(\n",
    "    Bucket=bucket_name, Delete={\"Objects\": files_to_delete}\n",
    ")"
   ]
  },
  {
   "cell_type": "code",
   "execution_count": 28,
   "id": "79914f9a",
   "metadata": {},
   "outputs": [],
   "source": [
    "client = boto3.client('glue')\n",
    "response = client.delete_database(Name='dbt_demo_01')"
   ]
  },
  {
   "cell_type": "code",
   "execution_count": null,
   "id": "e47f0cb1",
   "metadata": {},
   "outputs": [],
   "source": []
  }
 ],
 "metadata": {
  "kernelspec": {
   "display_name": "Python 3.10.7 64-bit",
   "language": "python",
   "name": "python3"
  },
  "language_info": {
   "codemirror_mode": {
    "name": "ipython",
    "version": 3
   },
   "file_extension": ".py",
   "mimetype": "text/x-python",
   "name": "python",
   "nbconvert_exporter": "python",
   "pygments_lexer": "ipython3",
   "version": "3.10.7"
  },
  "vscode": {
   "interpreter": {
    "hash": "aee8b7b246df8f9039afb4144a1f6fd8d2ca17a180786b69acc140d282b71a49"
   }
  }
 },
 "nbformat": 4,
 "nbformat_minor": 5
}
